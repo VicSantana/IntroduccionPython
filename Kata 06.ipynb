{
 "cells": [
  {
   "cell_type": "markdown",
   "metadata": {},
   "source": [
    "## Ejercicio 1"
   ]
  },
  {
   "cell_type": "code",
   "execution_count": 3,
   "metadata": {},
   "outputs": [
    {
     "name": "stdout",
     "output_type": "stream",
     "text": [
      "['Mercurio', 'Venus', 'Tierra', 'Marte', 'Jupiter', 'Saturno', 'Urano', 'Neptuno']\n",
      "['Mercurio', 'Venus', 'Tierra', 'Marte', 'Jupiter', 'Saturno', 'Urano', 'Neptuno', 'Pluton']\n",
      "El ultimo planeta es  Pluton\n"
     ]
    }
   ],
   "source": [
    "l_planetas = [\"Mercurio\",\"Venus\",\"Tierra\",\"Marte\",\"Jupiter\",\"Saturno\",\"Urano\",\"Neptuno\"]\n",
    "\n",
    "print(l_planetas)\n",
    "\n",
    "l_planetas.append('Pluton')\n",
    "\n",
    "print(l_planetas)\n",
    "\n",
    "print(\"El ultimo planeta es \",l_planetas[8])"
   ]
  },
  {
   "cell_type": "markdown",
   "metadata": {},
   "source": [
    "## Ejercicio 2"
   ]
  },
  {
   "cell_type": "code",
   "execution_count": 14,
   "metadata": {},
   "outputs": [
    {
     "name": "stdout",
     "output_type": "stream",
     "text": [
      "3\n",
      "Los planetas mas cercanos al sol, antes del planeta Marte Son: \n",
      "['Mercurio', 'Venus', 'Tierra']\n",
      "Los planetas mas lejanos al sol son, despues del planeta Marte Son: \n",
      "['Saturno', 'Urano', 'Neptuno']\n"
     ]
    }
   ],
   "source": [
    "l_planetas = [\"Mercurio\",\"Venus\",\"Tierra\",\"Marte\",\"Jupiter\",\"Saturno\",\"Urano\",\"Neptuno\"]\n",
    "\n",
    "v_planeta = input(\"Por favor ingrese un planeta, Es importante que inicie con la primer letra en mayuscula\")\n",
    "\n",
    "v_buscaPlaneta = l_planetas.index(v_planeta)\n",
    "\n",
    "print(v_buscaPlaneta)\n",
    "\n",
    "print('Los planetas mas cercanos al sol, antes del planeta ' + v_planeta + \" Son: \")\n",
    "print(l_planetas[0:v_buscaPlaneta])\n",
    "\n",
    "print( 'Los planetas mas lejanos al sol son, despues del planeta '+v_planeta + \" Son: \")\n",
    "print(l_planetas[v_buscaPlaneta +1:])\n"
   ]
  },
  {
   "cell_type": "code",
   "execution_count": null,
   "metadata": {},
   "outputs": [],
   "source": []
  }
 ],
 "metadata": {
  "interpreter": {
   "hash": "deca167cd5759d593a29d5ff0cad183eb1b0dddc6407d2603c9b3e64c765c6fe"
  },
  "kernelspec": {
   "display_name": "Python 3.10.2 64-bit",
   "language": "python",
   "name": "python3"
  },
  "language_info": {
   "codemirror_mode": {
    "name": "ipython",
    "version": 3
   },
   "file_extension": ".py",
   "mimetype": "text/x-python",
   "name": "python",
   "nbconvert_exporter": "python",
   "pygments_lexer": "ipython3",
   "version": "3.10.2"
  },
  "orig_nbformat": 4
 },
 "nbformat": 4,
 "nbformat_minor": 2
}
