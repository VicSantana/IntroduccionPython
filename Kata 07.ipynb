{
 "cells": [
  {
   "cell_type": "markdown",
   "metadata": {},
   "source": [
    "## Ejercicio 1 Uso de ciclos while en Python"
   ]
  },
  {
   "cell_type": "code",
   "execution_count": 2,
   "metadata": {},
   "outputs": [],
   "source": [
    "v_new_planet = ''\n",
    "v_planets = []\n",
    "\n",
    "while v_new_planet.lower() != 'done':\n",
    "    if v_new_planet:\n",
    "        v_planets.append(v_new_planet)\n",
    "\n",
    "    v_new_planet = input('Ingresa el nombre del planeta o la palabra done')\n"
   ]
  },
  {
   "cell_type": "markdown",
   "metadata": {},
   "source": [
    "## Ejercicio 2 Creación de un ciclo \"for\""
   ]
  },
  {
   "cell_type": "code",
   "execution_count": 5,
   "metadata": {},
   "outputs": [
    {
     "name": "stdout",
     "output_type": "stream",
     "text": [
      "El nombre del planeta que el usuario escribio es mercurioEn la posicion 0\n",
      "El nombre del planeta que el usuario escribio es venusEn la posicion 1\n",
      "El nombre del planeta que el usuario escribio es tierraEn la posicion 2\n"
     ]
    }
   ],
   "source": [
    "v_new_planet = ''\n",
    "v_planets = []\n",
    "v_num =0\n",
    "\n",
    "while v_new_planet.lower() != 'done':\n",
    "    if v_new_planet:\n",
    "        v_planets.append(v_new_planet)\n",
    "\n",
    "    v_new_planet = input('Ingresa el nombre del planeta o la palabra done')\n",
    "\n",
    "for n_planet in v_planets:\n",
    "    print('El nombre del planeta que el usuario escribio es '+ n_planet+ 'En la posicion '+str(v_num))\n",
    "    v_num += 1\n",
    "\n",
    "v_num = 0"
   ]
  }
 ],
 "metadata": {
  "interpreter": {
   "hash": "deca167cd5759d593a29d5ff0cad183eb1b0dddc6407d2603c9b3e64c765c6fe"
  },
  "kernelspec": {
   "display_name": "Python 3.10.2 64-bit",
   "language": "python",
   "name": "python3"
  },
  "language_info": {
   "codemirror_mode": {
    "name": "ipython",
    "version": 3
   },
   "file_extension": ".py",
   "mimetype": "text/x-python",
   "name": "python",
   "nbconvert_exporter": "python",
   "pygments_lexer": "ipython3",
   "version": "3.10.2"
  },
  "orig_nbformat": 4
 },
 "nbformat": 4,
 "nbformat_minor": 2
}
