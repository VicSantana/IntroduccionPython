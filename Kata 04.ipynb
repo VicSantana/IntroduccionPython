{
 "cells": [
  {
   "cell_type": "markdown",
   "metadata": {},
   "source": [
    "## Ejercicio 1: Transformar cadenas"
   ]
  },
  {
   "cell_type": "code",
   "execution_count": null,
   "metadata": {},
   "outputs": [],
   "source": [
    "text = \"\"\"Interesting facts about the Moon. The Moon is Earth's only satellite. There are several interesting facts about the Moon and how it affects life here on Earth. \n",
    "On average, the Moon moves 4cm away from the Earth every year. This yearly drift is not significant enough to cause immediate effects on Earth. The highest daylight temperature of the Moon is 127 C.\"\"\"\n",
    "\n",
    "v_texto_div = text.split('. ')\n",
    "v_palabras = [\"average\",\"temperature\",\"distance\"]\n",
    "v_textoOk = text.replace(\"C\",\"Celsius\")\n",
    "\n",
    "for item in v_texto_div:\n",
    "    for palabras in v_palabras:\n",
    "        if palabras in item:\n",
    "            print(\"la palabra encontrada es \"+palabras)\n",
    "\n",
    "print(v_textoOk)\n"
   ]
  },
  {
   "cell_type": "markdown",
   "metadata": {},
   "source": [
    "## Ejercicio 2: Formateando Cadenas"
   ]
  },
  {
   "cell_type": "code",
   "execution_count": 21,
   "metadata": {},
   "outputs": [
    {
     "name": "stdout",
     "output_type": "stream",
     "text": [
      "Gravedad En Earth Y Sobre Su Luna Moon \n",
      "               El nombre del planeta es Earth\n",
      "               y tiene una luna llamada Moon\n",
      "               y una gravedad de 1.6199999999999999\n",
      "El nombre del planeta es Earth\n",
      "               y tiene una luna llamada Moon\n",
      "               y una gravedad de 1.6199999999999999\n",
      "Datos sobre Marte \n",
      "            y su gravedad 1.4300000000000002\n",
      "            y su luna Ganímedes\n"
     ]
    }
   ],
   "source": [
    "# Datos con los que vas a trabajar\n",
    "name = \"Moon\"\n",
    "gravity = 0.00162 # in kms\n",
    "planet = \"Earth\"\n",
    "\n",
    "v_titulo = f\"\"\"Gravedad en {planet} y sobre su luna {name}\"\"\"\n",
    "\n",
    "v_datos = f\"\"\"El nombre del planeta es {planet}\n",
    "               y tiene una luna llamada {name}\n",
    "               y una gravedad de {gravity * 1000}\"\"\"\n",
    "\n",
    "#print(v_datos)\n",
    "\n",
    "v_canvas = f\"\"\"{v_titulo.title()} \n",
    "               {v_datos}\"\"\"\n",
    "\n",
    "print(v_canvas)\n",
    "\n",
    "planet = 'Marte '\n",
    "gravity  = 0.00143\n",
    "name = 'Ganímedes'\n",
    "\n",
    "print(v_datos)\n",
    "\n",
    "v_canvas2 = \"\"\"Datos sobre {planet}\n",
    "            y su gravedad {gravity}\n",
    "            y su luna {name}\"\"\"\n",
    "\n",
    "print(v_canvas2.format(planet=planet,gravity=gravity*1000,name=name))\n",
    "\n",
    "\n"
   ]
  }
 ],
 "metadata": {
  "interpreter": {
   "hash": "deca167cd5759d593a29d5ff0cad183eb1b0dddc6407d2603c9b3e64c765c6fe"
  },
  "kernelspec": {
   "display_name": "Python 3.10.2 64-bit",
   "language": "python",
   "name": "python3"
  },
  "language_info": {
   "codemirror_mode": {
    "name": "ipython",
    "version": 3
   },
   "file_extension": ".py",
   "mimetype": "text/x-python",
   "name": "python",
   "nbconvert_exporter": "python",
   "pygments_lexer": "ipython3",
   "version": "3.10.2"
  },
  "orig_nbformat": 4
 },
 "nbformat": 4,
 "nbformat_minor": 2
}
