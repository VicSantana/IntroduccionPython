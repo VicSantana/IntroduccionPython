{
 "cells": [
  {
   "cell_type": "markdown",
   "metadata": {},
   "source": [
    "## Ejercicio 1"
   ]
  },
  {
   "cell_type": "code",
   "execution_count": 7,
   "metadata": {},
   "outputs": [
    {
     "name": "stdout",
     "output_type": "stream",
     "text": [
      "628949330\n",
      "1012195830.5395201\n"
     ]
    }
   ],
   "source": [
    "v_tierra = 149597870\n",
    "v_jupiter = 778547200 \n",
    "\n",
    "v_distancia =   v_jupiter - v_tierra\n",
    "v_distancia_mi = (v_jupiter * 1.609344) - (v_tierra * 1.609344)\n",
    "#v_distancia_mi = v_distancia * 0.621\n",
    "\n",
    "\n",
    "print(v_distancia)\n",
    "print(v_distancia_mi)"
   ]
  },
  {
   "cell_type": "markdown",
   "metadata": {},
   "source": [
    "## Ejercicio 2"
   ]
  },
  {
   "cell_type": "code",
   "execution_count": 9,
   "metadata": {},
   "outputs": [
    {
     "name": "stdout",
     "output_type": "stream",
     "text": [
      "629000000\n",
      "390609000.0\n"
     ]
    }
   ],
   "source": [
    "v_planeta_1 = input(\"Introduzca la distancia del primer planeta\")\n",
    "v_planeta_2 = input(\"Introduzca la distancia del segundo planeta\")\n",
    "\n",
    "v_planeta_1 = int(v_planeta_1)\n",
    "v_planeta_2 = int(v_planeta_2)\n",
    "\n",
    "v_distancia = v_planeta_2 - v_planeta_1\n",
    "print(abs(v_distancia))\n",
    "\n",
    "v_distancia_millas = (v_distancia *  0.621)\n",
    "print(v_distancia_millas)"
   ]
  }
 ],
 "metadata": {
  "interpreter": {
   "hash": "deca167cd5759d593a29d5ff0cad183eb1b0dddc6407d2603c9b3e64c765c6fe"
  },
  "kernelspec": {
   "display_name": "Python 3.10.2 64-bit",
   "language": "python",
   "name": "python3"
  },
  "language_info": {
   "codemirror_mode": {
    "name": "ipython",
    "version": 3
   },
   "file_extension": ".py",
   "mimetype": "text/x-python",
   "name": "python",
   "nbconvert_exporter": "python",
   "pygments_lexer": "ipython3",
   "version": "3.10.2"
  },
  "orig_nbformat": 4
 },
 "nbformat": 4,
 "nbformat_minor": 2
}
