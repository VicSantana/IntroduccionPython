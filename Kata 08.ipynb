{
 "cells": [
  {
   "cell_type": "markdown",
   "metadata": {},
   "source": [
    "## Ejercicio 1: Creación de diccionarios de Python"
   ]
  },
  {
   "cell_type": "code",
   "execution_count": 13,
   "metadata": {},
   "outputs": [
    {
     "name": "stdout",
     "output_type": "stream",
     "text": [
      "marte\n",
      "2\n",
      "marte tiene una circunferencia polar de 6752\n",
      "marte has a polar circumference of 6752\n"
     ]
    }
   ],
   "source": [
    "d_planet = {\n",
    "        'planeta': 'marte',\n",
    "        'lunas':'2'\n",
    "}\n",
    "\n",
    "print(d_planet.get('planeta'))\n",
    "print(d_planet.get('lunas'))\n",
    "\n",
    "d_planet['circunferencia km'] = {\n",
    "    'polar': 6752,\n",
    "    'equatorial': 6792\n",
    "}\n",
    "\n",
    "print(f'{d_planet.get(\"planeta\")} tiene una circunferencia polar de {d_planet[\"circunferencia km\"][\"polar\"]}')\n"
   ]
  },
  {
   "cell_type": "markdown",
   "metadata": {},
   "source": [
    "## Ejercicio 2 Programación dinámica con diccionarios"
   ]
  },
  {
   "cell_type": "code",
   "execution_count": 22,
   "metadata": {},
   "outputs": [
    {
     "name": "stdout",
     "output_type": "stream",
     "text": [
      "dict_values([0, 0, 1, 2, 79, 82, 27, 14, 5, 2, 1, 1])\n",
      "El numero total de lunas es de  214 El numero total de planetas es de 12\n",
      "El promedio es de 17.833333333333332\n"
     ]
    }
   ],
   "source": [
    "d_planet_moons = {\n",
    "    'mercury': 0,\n",
    "    'venus': 0,\n",
    "    'earth': 1,\n",
    "    'mars': 2,\n",
    "    'jupiter': 79,\n",
    "    'saturn': 82,\n",
    "    'uranus': 27,\n",
    "    'neptune': 14,\n",
    "    'pluto': 5,\n",
    "    'haumea': 2,\n",
    "    'makemake': 1,\n",
    "    'eris': 1\n",
    "}\n",
    "\n",
    "v_lunas = 0\n",
    "v_suma =0\n",
    "v_num_plan = 0\n",
    "v_promedio = float (0)\n",
    "\n",
    "v_lunas = d_planet_moons.values()\n",
    "print(v_lunas)\n",
    "\n",
    "for x in v_lunas:\n",
    "    v_suma = v_suma + int(x)\n",
    "\n",
    "v_num_plan = len(d_planet_moons.keys())\n",
    "\n",
    "v_promedio = v_suma / v_num_plan\n",
    "\n",
    "print(\"El numero total de lunas es de  \"+str(v_suma)+ \" El numero total de planetas es de \"+str(v_num_plan)+chr(10)+\"El promedio es de \"+str(v_promedio))\n"
   ]
  }
 ],
 "metadata": {
  "interpreter": {
   "hash": "deca167cd5759d593a29d5ff0cad183eb1b0dddc6407d2603c9b3e64c765c6fe"
  },
  "kernelspec": {
   "display_name": "Python 3.10.2 64-bit",
   "language": "python",
   "name": "python3"
  },
  "language_info": {
   "codemirror_mode": {
    "name": "ipython",
    "version": 3
   },
   "file_extension": ".py",
   "mimetype": "text/x-python",
   "name": "python",
   "nbconvert_exporter": "python",
   "pygments_lexer": "ipython3",
   "version": "3.10.2"
  },
  "orig_nbformat": 4
 },
 "nbformat": 4,
 "nbformat_minor": 2
}
