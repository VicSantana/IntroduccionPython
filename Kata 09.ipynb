{
 "cells": [
  {
   "cell_type": "markdown",
   "metadata": {},
   "source": [
    "## Ejercicio 1 Uso de funciones en Python"
   ]
  },
  {
   "cell_type": "code",
   "execution_count": null,
   "metadata": {},
   "outputs": [],
   "source": [
    "def fn_reporte (tanque1,tanque2,tanque3):\n",
    "    promedio = (tanque1+tanque2+tanque3) / 3\n",
    "    return f\"\"\" Reporte\n",
    "     Promedio {promedio}\n",
    "     Tanque1 {tanque1}\n",
    "     Tanque2 {tanque2}\n",
    "     Tanque3 {tanque3}\n",
    "     \"\"\"\n",
    "\n",
    "print(fn_reporte(tanque1=10,tanque2=10,tanque3=10))\n",
    "\n",
    "def fn_prom(val):\n",
    "    total = sum(val)\n",
    "    n_items = len(val)\n",
    "    return total / n_items\n",
    "\n",
    "fn_prom([10, 10, 10]) \n",
    "\n",
    "def fn_reporte (tanque1,tanque2,tanque3):\n",
    "    return f\"\"\" Reporte\n",
    "     Promedio {fn_prom([tanque1,tanque2,tanque3])}\n",
    "     Tanque1 {tanque1}\n",
    "     Tanque2 {tanque2}\n",
    "     Tanque3 {tanque3}\n",
    "     \"\"\"\n",
    "\n",
    "print(fn_reporte(tanque1=20,tanque2=20,tanque3=20))"
   ]
  },
  {
   "cell_type": "markdown",
   "metadata": {},
   "source": [
    "## Ejercicio 2 Trabajo con argumentos de palabra clave"
   ]
  },
  {
   "cell_type": "code",
   "execution_count": 22,
   "metadata": {},
   "outputs": [
    {
     "name": "stdout",
     "output_type": "stream",
     "text": [
      "Reporte Preciso de Mision\n",
      "    Hora prelanzamiento 10:00\n",
      "    Tiempo Vuelo 50\n",
      "    Destino Marte\n",
      "    Tanque Externo 100\n",
      "    Tanque Interno 5000\n",
      "    \n",
      " Reporte Preciso de Mision\n",
      "     Destino Marte\n",
      "     Minutos 30\n",
      "     Galones 800\n",
      "    \n",
      " Reporte Preciso de Mision\n",
      "     Destino Marte\n",
      "     Minutos 30\n",
      "     Galones 800\n",
      "    el tanque tanque1 contiene 100 galones \n",
      "el tanque tanque2 contiene 200 galones \n",
      "el tanque tanque3 contiene 500 galones \n",
      "\n"
     ]
    }
   ],
   "source": [
    "def fn_informe_preciso (hora_prelanzamiento, tiempo_vuelo, destino, tanque_ext, tanque_int):\n",
    "    return f\"\"\"Reporte Preciso de Mision\n",
    "    Hora prelanzamiento {hora_prelanzamiento}\n",
    "    Tiempo Vuelo {tiempo_vuelo}\n",
    "    Destino {destino}\n",
    "    Tanque Externo {tanque_ext}\n",
    "    Tanque Interno {tanque_int}\n",
    "    \"\"\"\n",
    "print(fn_informe_preciso(\"10:00\",\"50\",\"Marte\",100,5000  ))\n",
    "\n",
    "\n",
    "def fn_informe_preciso (destino, *minutos,**galones_tanque):\n",
    "    return f\"\"\" Reporte Preciso de Mision\n",
    "     Destino {destino}\n",
    "     Minutos {sum(minutos)}\n",
    "     Galones {sum(galones_tanque.values())}\n",
    "    \"\"\"\n",
    "print(fn_informe_preciso(\"Marte\", 10, 10, 10, tanque1=100,tanque2=200,tanque3=500))  \n",
    "\n",
    "\n",
    "def fn_informe_preciso (destino, *minutos,**galones_tanque):\n",
    "    reporte = f\"\"\" Reporte Preciso de Mision\n",
    "     Destino {destino}\n",
    "     Minutos {sum(minutos)}\n",
    "     Galones {sum(galones_tanque.values())}\n",
    "    \"\"\"\n",
    "    for tanque,galones, in galones_tanque.items():\n",
    "        reporte += f\"el tanque {tanque} contiene {galones} galones {chr(10)}\"\n",
    "    return reporte\n",
    "\n",
    "print(fn_informe_preciso(\"Marte\", 10, 10, 10, tanque1=100,tanque2=200,tanque3=500))  \n",
    "\n"
   ]
  }
 ],
 "metadata": {
  "interpreter": {
   "hash": "deca167cd5759d593a29d5ff0cad183eb1b0dddc6407d2603c9b3e64c765c6fe"
  },
  "kernelspec": {
   "display_name": "Python 3.10.2 64-bit",
   "language": "python",
   "name": "python3"
  },
  "language_info": {
   "codemirror_mode": {
    "name": "ipython",
    "version": 3
   },
   "file_extension": ".py",
   "mimetype": "text/x-python",
   "name": "python",
   "nbconvert_exporter": "python",
   "pygments_lexer": "ipython3",
   "version": "3.10.2"
  },
  "orig_nbformat": 4
 },
 "nbformat": 4,
 "nbformat_minor": 2
}
