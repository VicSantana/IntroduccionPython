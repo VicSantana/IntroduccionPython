{
 "cells": [
  {
   "cell_type": "markdown",
   "metadata": {},
   "source": [
    "## Ejercicio 1"
   ]
  },
  {
   "cell_type": "code",
   "execution_count": 2,
   "metadata": {},
   "outputs": [
    {
     "name": "stdout",
     "output_type": "stream",
     "text": [
      "Cuidado!! un asteroide viene a la tierra a una velocidad de 29\n"
     ]
    }
   ],
   "source": [
    "v_velocidad = 29\n",
    "\n",
    "if v_velocidad > 25:\n",
    " print (\"Cuidado!! un asteroide viene a la tierra a una velocidad de \"+str(v_velocidad)) \n",
    "else:\n",
    "    print(\"No hay problema de asteroides\") "
   ]
  },
  {
   "cell_type": "markdown",
   "metadata": {},
   "source": [
    "## Ejercicio 2"
   ]
  },
  {
   "cell_type": "code",
   "execution_count": 7,
   "metadata": {},
   "outputs": [
    {
     "name": "stdout",
     "output_type": "stream",
     "text": [
      "Nada que ver por aqui\n"
     ]
    }
   ],
   "source": [
    "v_velocidad = 19\n",
    "\n",
    "if v_velocidad == 19:\n",
    "    print(\"Se ve un rayo muy tenue, viene un asteroide a \"+str(v_velocidad)+\" km/s\")\n",
    "elif v_velocidad >= 20:\n",
    "    print(\"Se percibe un rayo de luz, un asteroide viaja a \"+str(v_velocidad)+\" km/s\")\n",
    "else:\n",
    "    print(\"No se ve nada por aqui\")     "
   ]
  },
  {
   "cell_type": "markdown",
   "metadata": {},
   "source": [
    "## Ejercicio 3"
   ]
  },
  {
   "cell_type": "code",
   "execution_count": 16,
   "metadata": {},
   "outputs": [
    {
     "name": "stdout",
     "output_type": "stream",
     "text": [
      "Cuidado un asteroide se acerca a la tierra y puede causar un gran daño\n",
      "El asteroide viaja a 26 km/s y tiene un tamaño de 15 mts\n"
     ]
    }
   ],
   "source": [
    "v_velocidad = 26\n",
    "v_tamaño = 15\n",
    "\n",
    "if v_velocidad > 25 and v_tamaño < 1000:\n",
    "    print(\"Cuidado un asteroide se acerca a la tierra y puede causar un gran daño\")\n",
    "    print(\"El asteroide viaja a \"+str(v_velocidad)+\" km/s y tiene un tamaño de \"+str(v_tamaño)+(\" mts\"))\n",
    "elif v_velocidad >= 20:\n",
    "    print(\"Se ve un rayo de luz cerca de la tierra\")\n",
    "elif v_velocidad < 20:\n",
    "    print(\"No se ve nada\")\n",
    "else:\n",
    "    print(\"No ocurre nada\")            "
   ]
  }
 ],
 "metadata": {
  "interpreter": {
   "hash": "deca167cd5759d593a29d5ff0cad183eb1b0dddc6407d2603c9b3e64c765c6fe"
  },
  "kernelspec": {
   "display_name": "Python 3.10.2 64-bit",
   "language": "python",
   "name": "python3"
  },
  "language_info": {
   "codemirror_mode": {
    "name": "ipython",
    "version": 3
   },
   "file_extension": ".py",
   "mimetype": "text/x-python",
   "name": "python",
   "nbconvert_exporter": "python",
   "pygments_lexer": "ipython3",
   "version": "3.10.2"
  },
  "orig_nbformat": 4
 },
 "nbformat": 4,
 "nbformat_minor": 2
}
